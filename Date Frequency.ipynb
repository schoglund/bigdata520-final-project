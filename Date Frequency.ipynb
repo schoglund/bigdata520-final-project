{
 "cells": [
  {
   "attachments": {},
   "cell_type": "markdown",
   "metadata": {},
   "source": [
    "# BIG Data 520 Final Project - Determining Weather Frequency\n",
    "Need to get specific dates and times to do OpenWeather One Call API calls.\n",
    "\n",
    "Want to get 4 ski seasons worth of weather data.\n",
    "\n",
    "## Focusing on 2024/2025 season\n",
    "Month range: first week of December to 3rd week of April\n",
    "\n",
    "Get daily temps at 10:30 and 14:30 for two days of the week between those month ranges."
   ]
  },
  {
   "cell_type": "code",
   "execution_count": 88,
   "metadata": {},
   "outputs": [],
   "source": [
    "import calendar\n",
    "import datetime as dt\n",
    "import random\n",
    "import pandas as pd"
   ]
  },
  {
   "cell_type": "code",
   "execution_count": 3,
   "metadata": {},
   "outputs": [],
   "source": [
    "start_month = 12\n",
    "start_year = 2024\n",
    "end_month = 4\n",
    "end_year = 2025"
   ]
  },
  {
   "cell_type": "code",
   "execution_count": 56,
   "metadata": {},
   "outputs": [
    {
     "data": {
      "text/plain": [
       "[[datetime.date(2024, 11, 25),\n",
       "  datetime.date(2024, 11, 26),\n",
       "  datetime.date(2024, 11, 27),\n",
       "  datetime.date(2024, 11, 28),\n",
       "  datetime.date(2024, 11, 29),\n",
       "  datetime.date(2024, 11, 30),\n",
       "  datetime.date(2024, 12, 1)],\n",
       " [datetime.date(2024, 12, 2),\n",
       "  datetime.date(2024, 12, 3),\n",
       "  datetime.date(2024, 12, 4),\n",
       "  datetime.date(2024, 12, 5),\n",
       "  datetime.date(2024, 12, 6),\n",
       "  datetime.date(2024, 12, 7),\n",
       "  datetime.date(2024, 12, 8)],\n",
       " [datetime.date(2024, 12, 9),\n",
       "  datetime.date(2024, 12, 10),\n",
       "  datetime.date(2024, 12, 11),\n",
       "  datetime.date(2024, 12, 12),\n",
       "  datetime.date(2024, 12, 13),\n",
       "  datetime.date(2024, 12, 14),\n",
       "  datetime.date(2024, 12, 15)],\n",
       " [datetime.date(2024, 12, 16),\n",
       "  datetime.date(2024, 12, 17),\n",
       "  datetime.date(2024, 12, 18),\n",
       "  datetime.date(2024, 12, 19),\n",
       "  datetime.date(2024, 12, 20),\n",
       "  datetime.date(2024, 12, 21),\n",
       "  datetime.date(2024, 12, 22)],\n",
       " [datetime.date(2024, 12, 23),\n",
       "  datetime.date(2024, 12, 24),\n",
       "  datetime.date(2024, 12, 25),\n",
       "  datetime.date(2024, 12, 26),\n",
       "  datetime.date(2024, 12, 27),\n",
       "  datetime.date(2024, 12, 28),\n",
       "  datetime.date(2024, 12, 29)],\n",
       " [datetime.date(2024, 12, 30),\n",
       "  datetime.date(2024, 12, 31),\n",
       "  datetime.date(2025, 1, 1),\n",
       "  datetime.date(2025, 1, 2),\n",
       "  datetime.date(2025, 1, 3),\n",
       "  datetime.date(2025, 1, 4),\n",
       "  datetime.date(2025, 1, 5)]]"
      ]
     },
     "execution_count": 56,
     "metadata": {},
     "output_type": "execute_result"
    }
   ],
   "source": [
    "cal = calendar.Calendar()\n",
    "\n",
    "cal.monthdatescalendar(start_year, start_month)"
   ]
  },
  {
   "attachments": {},
   "cell_type": "markdown",
   "metadata": {},
   "source": [
    "Truncate the list down to the first full week of the month and grab everything else since the weeks where the dates cross months will be captured at the end."
   ]
  },
  {
   "cell_type": "code",
   "execution_count": 9,
   "metadata": {},
   "outputs": [
    {
     "data": {
      "text/plain": [
       "[[datetime.date(2024, 12, 30),\n",
       "  datetime.date(2024, 12, 31),\n",
       "  datetime.date(2025, 1, 1),\n",
       "  datetime.date(2025, 1, 2),\n",
       "  datetime.date(2025, 1, 3),\n",
       "  datetime.date(2025, 1, 4),\n",
       "  datetime.date(2025, 1, 5)],\n",
       " [datetime.date(2025, 1, 6),\n",
       "  datetime.date(2025, 1, 7),\n",
       "  datetime.date(2025, 1, 8),\n",
       "  datetime.date(2025, 1, 9),\n",
       "  datetime.date(2025, 1, 10),\n",
       "  datetime.date(2025, 1, 11),\n",
       "  datetime.date(2025, 1, 12)],\n",
       " [datetime.date(2025, 1, 13),\n",
       "  datetime.date(2025, 1, 14),\n",
       "  datetime.date(2025, 1, 15),\n",
       "  datetime.date(2025, 1, 16),\n",
       "  datetime.date(2025, 1, 17),\n",
       "  datetime.date(2025, 1, 18),\n",
       "  datetime.date(2025, 1, 19)],\n",
       " [datetime.date(2025, 1, 20),\n",
       "  datetime.date(2025, 1, 21),\n",
       "  datetime.date(2025, 1, 22),\n",
       "  datetime.date(2025, 1, 23),\n",
       "  datetime.date(2025, 1, 24),\n",
       "  datetime.date(2025, 1, 25),\n",
       "  datetime.date(2025, 1, 26)],\n",
       " [datetime.date(2025, 1, 27),\n",
       "  datetime.date(2025, 1, 28),\n",
       "  datetime.date(2025, 1, 29),\n",
       "  datetime.date(2025, 1, 30),\n",
       "  datetime.date(2025, 1, 31),\n",
       "  datetime.date(2025, 2, 1),\n",
       "  datetime.date(2025, 2, 2)]]"
      ]
     },
     "execution_count": 9,
     "metadata": {},
     "output_type": "execute_result"
    }
   ],
   "source": [
    "cal.monthdatescalendar(end_year, 1)"
   ]
  },
  {
   "cell_type": "code",
   "execution_count": 16,
   "metadata": {},
   "outputs": [
    {
     "name": "stdout",
     "output_type": "stream",
     "text": [
      "This is Week #1: [datetime.date(2024, 12, 2), datetime.date(2024, 12, 3), datetime.date(2024, 12, 4), datetime.date(2024, 12, 5), datetime.date(2024, 12, 6), datetime.date(2024, 12, 7), datetime.date(2024, 12, 8)]\n",
      "This is Week #2: [datetime.date(2024, 12, 9), datetime.date(2024, 12, 10), datetime.date(2024, 12, 11), datetime.date(2024, 12, 12), datetime.date(2024, 12, 13), datetime.date(2024, 12, 14), datetime.date(2024, 12, 15)]\n",
      "This is Week #3: [datetime.date(2024, 12, 16), datetime.date(2024, 12, 17), datetime.date(2024, 12, 18), datetime.date(2024, 12, 19), datetime.date(2024, 12, 20), datetime.date(2024, 12, 21), datetime.date(2024, 12, 22)]\n",
      "This is Week #4: [datetime.date(2024, 12, 23), datetime.date(2024, 12, 24), datetime.date(2024, 12, 25), datetime.date(2024, 12, 26), datetime.date(2024, 12, 27), datetime.date(2024, 12, 28), datetime.date(2024, 12, 29)]\n",
      "This is Week #5: [datetime.date(2024, 12, 30), datetime.date(2024, 12, 31), datetime.date(2025, 1, 1), datetime.date(2025, 1, 2), datetime.date(2025, 1, 3), datetime.date(2025, 1, 4), datetime.date(2025, 1, 5)]\n"
     ]
    }
   ],
   "source": [
    "dates = {}\n",
    "week_num = 1\n",
    "for wk in cal.monthdatescalendar(start_year, start_month):\n",
    "    if wk[0].month != start_month:\n",
    "        continue\n",
    "    \n",
    "    print(f\"This is Week #{week_num}: {wk}\")\n",
    "    dates[week_num] = wk\n",
    "    week_num += 1\n"
   ]
  },
  {
   "attachments": {},
   "cell_type": "markdown",
   "metadata": {},
   "source": [
    "### Scale up to cycle through all the months in the December to mid-April range and add the dates for each week number to `dates`."
   ]
  },
  {
   "cell_type": "code",
   "execution_count": 51,
   "metadata": {},
   "outputs": [],
   "source": [
    "month_range = [(start_year, start_month)] # initialize with the 2024 month because that's the only one for that year"
   ]
  },
  {
   "cell_type": "code",
   "execution_count": 52,
   "metadata": {},
   "outputs": [],
   "source": [
    "month_range.extend([(end_year, m) for m in range(1,end_month+1)])"
   ]
  },
  {
   "cell_type": "code",
   "execution_count": 53,
   "metadata": {},
   "outputs": [
    {
     "data": {
      "text/plain": [
       "[(2024, 12), (2025, 1), (2025, 2), (2025, 3), (2025, 4)]"
      ]
     },
     "execution_count": 53,
     "metadata": {},
     "output_type": "execute_result"
    }
   ],
   "source": [
    "month_range"
   ]
  },
  {
   "attachments": {},
   "cell_type": "markdown",
   "metadata": {},
   "source": [
    "Iterate through to get a dictionary of the normalized week numbers and the respective dates that fall within them:"
   ]
  },
  {
   "cell_type": "code",
   "execution_count": 59,
   "metadata": {},
   "outputs": [
    {
     "name": "stdout",
     "output_type": "stream",
     "text": [
      "Year: 2024\t Month:12\n",
      "This is Week #1: [datetime.date(2024, 12, 2), datetime.date(2024, 12, 3), datetime.date(2024, 12, 4), datetime.date(2024, 12, 5), datetime.date(2024, 12, 6), datetime.date(2024, 12, 7), datetime.date(2024, 12, 8)]\n",
      "This is Week #2: [datetime.date(2024, 12, 9), datetime.date(2024, 12, 10), datetime.date(2024, 12, 11), datetime.date(2024, 12, 12), datetime.date(2024, 12, 13), datetime.date(2024, 12, 14), datetime.date(2024, 12, 15)]\n",
      "This is Week #3: [datetime.date(2024, 12, 16), datetime.date(2024, 12, 17), datetime.date(2024, 12, 18), datetime.date(2024, 12, 19), datetime.date(2024, 12, 20), datetime.date(2024, 12, 21), datetime.date(2024, 12, 22)]\n",
      "This is Week #4: [datetime.date(2024, 12, 23), datetime.date(2024, 12, 24), datetime.date(2024, 12, 25), datetime.date(2024, 12, 26), datetime.date(2024, 12, 27), datetime.date(2024, 12, 28), datetime.date(2024, 12, 29)]\n",
      "This is Week #5: [datetime.date(2024, 12, 30), datetime.date(2024, 12, 31), datetime.date(2025, 1, 1), datetime.date(2025, 1, 2), datetime.date(2025, 1, 3), datetime.date(2025, 1, 4), datetime.date(2025, 1, 5)]\n",
      "Year: 2025\t Month:1\n",
      "This is Week #2: [datetime.date(2025, 1, 6), datetime.date(2025, 1, 7), datetime.date(2025, 1, 8), datetime.date(2025, 1, 9), datetime.date(2025, 1, 10), datetime.date(2025, 1, 11), datetime.date(2025, 1, 12)]\n",
      "This is Week #3: [datetime.date(2025, 1, 13), datetime.date(2025, 1, 14), datetime.date(2025, 1, 15), datetime.date(2025, 1, 16), datetime.date(2025, 1, 17), datetime.date(2025, 1, 18), datetime.date(2025, 1, 19)]\n",
      "This is Week #4: [datetime.date(2025, 1, 20), datetime.date(2025, 1, 21), datetime.date(2025, 1, 22), datetime.date(2025, 1, 23), datetime.date(2025, 1, 24), datetime.date(2025, 1, 25), datetime.date(2025, 1, 26)]\n",
      "This is Week #5: [datetime.date(2025, 1, 27), datetime.date(2025, 1, 28), datetime.date(2025, 1, 29), datetime.date(2025, 1, 30), datetime.date(2025, 1, 31), datetime.date(2025, 2, 1), datetime.date(2025, 2, 2)]\n",
      "Year: 2025\t Month:2\n",
      "This is Week #3: [datetime.date(2025, 2, 3), datetime.date(2025, 2, 4), datetime.date(2025, 2, 5), datetime.date(2025, 2, 6), datetime.date(2025, 2, 7), datetime.date(2025, 2, 8), datetime.date(2025, 2, 9)]\n",
      "This is Week #4: [datetime.date(2025, 2, 10), datetime.date(2025, 2, 11), datetime.date(2025, 2, 12), datetime.date(2025, 2, 13), datetime.date(2025, 2, 14), datetime.date(2025, 2, 15), datetime.date(2025, 2, 16)]\n",
      "This is Week #5: [datetime.date(2025, 2, 17), datetime.date(2025, 2, 18), datetime.date(2025, 2, 19), datetime.date(2025, 2, 20), datetime.date(2025, 2, 21), datetime.date(2025, 2, 22), datetime.date(2025, 2, 23)]\n",
      "This is Week #6: [datetime.date(2025, 2, 24), datetime.date(2025, 2, 25), datetime.date(2025, 2, 26), datetime.date(2025, 2, 27), datetime.date(2025, 2, 28), datetime.date(2025, 3, 1), datetime.date(2025, 3, 2)]\n",
      "Year: 2025\t Month:3\n",
      "This is Week #4: [datetime.date(2025, 3, 3), datetime.date(2025, 3, 4), datetime.date(2025, 3, 5), datetime.date(2025, 3, 6), datetime.date(2025, 3, 7), datetime.date(2025, 3, 8), datetime.date(2025, 3, 9)]\n",
      "This is Week #5: [datetime.date(2025, 3, 10), datetime.date(2025, 3, 11), datetime.date(2025, 3, 12), datetime.date(2025, 3, 13), datetime.date(2025, 3, 14), datetime.date(2025, 3, 15), datetime.date(2025, 3, 16)]\n",
      "This is Week #6: [datetime.date(2025, 3, 17), datetime.date(2025, 3, 18), datetime.date(2025, 3, 19), datetime.date(2025, 3, 20), datetime.date(2025, 3, 21), datetime.date(2025, 3, 22), datetime.date(2025, 3, 23)]\n",
      "This is Week #7: [datetime.date(2025, 3, 24), datetime.date(2025, 3, 25), datetime.date(2025, 3, 26), datetime.date(2025, 3, 27), datetime.date(2025, 3, 28), datetime.date(2025, 3, 29), datetime.date(2025, 3, 30)]\n",
      "This is Week #8: [datetime.date(2025, 3, 31), datetime.date(2025, 4, 1), datetime.date(2025, 4, 2), datetime.date(2025, 4, 3), datetime.date(2025, 4, 4), datetime.date(2025, 4, 5), datetime.date(2025, 4, 6)]\n",
      "Year: 2025\t Month:4\n",
      "This is Week #5: [datetime.date(2025, 4, 7), datetime.date(2025, 4, 8), datetime.date(2025, 4, 9), datetime.date(2025, 4, 10), datetime.date(2025, 4, 11), datetime.date(2025, 4, 12), datetime.date(2025, 4, 13)]\n",
      "This is Week #6: [datetime.date(2025, 4, 14), datetime.date(2025, 4, 15), datetime.date(2025, 4, 16), datetime.date(2025, 4, 17), datetime.date(2025, 4, 18), datetime.date(2025, 4, 19), datetime.date(2025, 4, 20)]\n"
     ]
    }
   ],
   "source": [
    "all_dates = {}\n",
    "week_num = 1\n",
    "for yr, mo in month_range:\n",
    "    print(f\"Year: {yr}\\t Month:{mo}\")\n",
    "    for i, wk in enumerate(cal.monthdatescalendar(yr, mo)):\n",
    "        # just want to grab the lists of datetime objects where the first element falls within the given 'mo' AND\n",
    "        # want to ignore the last couple weeks in April since those dates fall beyond the assumed ski season\n",
    "        if wk[0].month != mo or (mo == end_month and i > 2):\n",
    "            continue\n",
    "    \n",
    "        print(f\"This is Week #{week_num}: {wk}\")\n",
    "        all_dates[week_num] = wk\n",
    "        week_num += 1"
   ]
  },
  {
   "attachments": {},
   "cell_type": "markdown",
   "metadata": {},
   "source": [
    "## Scale up for all the seasons\n",
    "After mapping out what the loops look like for the 2024-2025 season, iterate through the previous 3 seasons."
   ]
  },
  {
   "cell_type": "code",
   "execution_count": null,
   "metadata": {},
   "outputs": [],
   "source": [
    "start_month = 12\n",
    "end_month = 4"
   ]
  },
  {
   "cell_type": "code",
   "execution_count": 55,
   "metadata": {},
   "outputs": [],
   "source": [
    "first_season = 2021\n",
    "end_season = 2025\n",
    "season_range = range(first_season, end_season+1)"
   ]
  },
  {
   "cell_type": "code",
   "execution_count": 61,
   "metadata": {},
   "outputs": [
    {
     "name": "stdout",
     "output_type": "stream",
     "text": [
      "\n",
      "######2021-2022######\n",
      "Year: 2021\t Month:12\n",
      "This is Week #1: [datetime.date(2021, 12, 6), datetime.date(2021, 12, 7), datetime.date(2021, 12, 8), datetime.date(2021, 12, 9), datetime.date(2021, 12, 10), datetime.date(2021, 12, 11), datetime.date(2021, 12, 12)]\n",
      "This is Week #2: [datetime.date(2021, 12, 13), datetime.date(2021, 12, 14), datetime.date(2021, 12, 15), datetime.date(2021, 12, 16), datetime.date(2021, 12, 17), datetime.date(2021, 12, 18), datetime.date(2021, 12, 19)]\n",
      "This is Week #3: [datetime.date(2021, 12, 20), datetime.date(2021, 12, 21), datetime.date(2021, 12, 22), datetime.date(2021, 12, 23), datetime.date(2021, 12, 24), datetime.date(2021, 12, 25), datetime.date(2021, 12, 26)]\n",
      "This is Week #4: [datetime.date(2021, 12, 27), datetime.date(2021, 12, 28), datetime.date(2021, 12, 29), datetime.date(2021, 12, 30), datetime.date(2021, 12, 31), datetime.date(2022, 1, 1), datetime.date(2022, 1, 2)]\n",
      "Year: 2022\t Month:1\n",
      "This is Week #5: [datetime.date(2022, 1, 3), datetime.date(2022, 1, 4), datetime.date(2022, 1, 5), datetime.date(2022, 1, 6), datetime.date(2022, 1, 7), datetime.date(2022, 1, 8), datetime.date(2022, 1, 9)]\n",
      "This is Week #6: [datetime.date(2022, 1, 10), datetime.date(2022, 1, 11), datetime.date(2022, 1, 12), datetime.date(2022, 1, 13), datetime.date(2022, 1, 14), datetime.date(2022, 1, 15), datetime.date(2022, 1, 16)]\n",
      "This is Week #7: [datetime.date(2022, 1, 17), datetime.date(2022, 1, 18), datetime.date(2022, 1, 19), datetime.date(2022, 1, 20), datetime.date(2022, 1, 21), datetime.date(2022, 1, 22), datetime.date(2022, 1, 23)]\n",
      "This is Week #8: [datetime.date(2022, 1, 24), datetime.date(2022, 1, 25), datetime.date(2022, 1, 26), datetime.date(2022, 1, 27), datetime.date(2022, 1, 28), datetime.date(2022, 1, 29), datetime.date(2022, 1, 30)]\n",
      "This is Week #9: [datetime.date(2022, 1, 31), datetime.date(2022, 2, 1), datetime.date(2022, 2, 2), datetime.date(2022, 2, 3), datetime.date(2022, 2, 4), datetime.date(2022, 2, 5), datetime.date(2022, 2, 6)]\n",
      "Year: 2022\t Month:2\n",
      "This is Week #10: [datetime.date(2022, 2, 7), datetime.date(2022, 2, 8), datetime.date(2022, 2, 9), datetime.date(2022, 2, 10), datetime.date(2022, 2, 11), datetime.date(2022, 2, 12), datetime.date(2022, 2, 13)]\n",
      "This is Week #11: [datetime.date(2022, 2, 14), datetime.date(2022, 2, 15), datetime.date(2022, 2, 16), datetime.date(2022, 2, 17), datetime.date(2022, 2, 18), datetime.date(2022, 2, 19), datetime.date(2022, 2, 20)]\n",
      "This is Week #12: [datetime.date(2022, 2, 21), datetime.date(2022, 2, 22), datetime.date(2022, 2, 23), datetime.date(2022, 2, 24), datetime.date(2022, 2, 25), datetime.date(2022, 2, 26), datetime.date(2022, 2, 27)]\n",
      "This is Week #13: [datetime.date(2022, 2, 28), datetime.date(2022, 3, 1), datetime.date(2022, 3, 2), datetime.date(2022, 3, 3), datetime.date(2022, 3, 4), datetime.date(2022, 3, 5), datetime.date(2022, 3, 6)]\n",
      "Year: 2022\t Month:3\n",
      "This is Week #14: [datetime.date(2022, 3, 7), datetime.date(2022, 3, 8), datetime.date(2022, 3, 9), datetime.date(2022, 3, 10), datetime.date(2022, 3, 11), datetime.date(2022, 3, 12), datetime.date(2022, 3, 13)]\n",
      "This is Week #15: [datetime.date(2022, 3, 14), datetime.date(2022, 3, 15), datetime.date(2022, 3, 16), datetime.date(2022, 3, 17), datetime.date(2022, 3, 18), datetime.date(2022, 3, 19), datetime.date(2022, 3, 20)]\n",
      "This is Week #16: [datetime.date(2022, 3, 21), datetime.date(2022, 3, 22), datetime.date(2022, 3, 23), datetime.date(2022, 3, 24), datetime.date(2022, 3, 25), datetime.date(2022, 3, 26), datetime.date(2022, 3, 27)]\n",
      "This is Week #17: [datetime.date(2022, 3, 28), datetime.date(2022, 3, 29), datetime.date(2022, 3, 30), datetime.date(2022, 3, 31), datetime.date(2022, 4, 1), datetime.date(2022, 4, 2), datetime.date(2022, 4, 3)]\n",
      "Year: 2022\t Month:4\n",
      "This is Week #18: [datetime.date(2022, 4, 4), datetime.date(2022, 4, 5), datetime.date(2022, 4, 6), datetime.date(2022, 4, 7), datetime.date(2022, 4, 8), datetime.date(2022, 4, 9), datetime.date(2022, 4, 10)]\n",
      "This is Week #19: [datetime.date(2022, 4, 11), datetime.date(2022, 4, 12), datetime.date(2022, 4, 13), datetime.date(2022, 4, 14), datetime.date(2022, 4, 15), datetime.date(2022, 4, 16), datetime.date(2022, 4, 17)]\n",
      "\n",
      "######2022-2023######\n",
      "Year: 2022\t Month:12\n",
      "This is Week #1: [datetime.date(2022, 12, 5), datetime.date(2022, 12, 6), datetime.date(2022, 12, 7), datetime.date(2022, 12, 8), datetime.date(2022, 12, 9), datetime.date(2022, 12, 10), datetime.date(2022, 12, 11)]\n",
      "This is Week #2: [datetime.date(2022, 12, 12), datetime.date(2022, 12, 13), datetime.date(2022, 12, 14), datetime.date(2022, 12, 15), datetime.date(2022, 12, 16), datetime.date(2022, 12, 17), datetime.date(2022, 12, 18)]\n",
      "This is Week #3: [datetime.date(2022, 12, 19), datetime.date(2022, 12, 20), datetime.date(2022, 12, 21), datetime.date(2022, 12, 22), datetime.date(2022, 12, 23), datetime.date(2022, 12, 24), datetime.date(2022, 12, 25)]\n",
      "This is Week #4: [datetime.date(2022, 12, 26), datetime.date(2022, 12, 27), datetime.date(2022, 12, 28), datetime.date(2022, 12, 29), datetime.date(2022, 12, 30), datetime.date(2022, 12, 31), datetime.date(2023, 1, 1)]\n",
      "Year: 2023\t Month:1\n",
      "This is Week #5: [datetime.date(2023, 1, 2), datetime.date(2023, 1, 3), datetime.date(2023, 1, 4), datetime.date(2023, 1, 5), datetime.date(2023, 1, 6), datetime.date(2023, 1, 7), datetime.date(2023, 1, 8)]\n",
      "This is Week #6: [datetime.date(2023, 1, 9), datetime.date(2023, 1, 10), datetime.date(2023, 1, 11), datetime.date(2023, 1, 12), datetime.date(2023, 1, 13), datetime.date(2023, 1, 14), datetime.date(2023, 1, 15)]\n",
      "This is Week #7: [datetime.date(2023, 1, 16), datetime.date(2023, 1, 17), datetime.date(2023, 1, 18), datetime.date(2023, 1, 19), datetime.date(2023, 1, 20), datetime.date(2023, 1, 21), datetime.date(2023, 1, 22)]\n",
      "This is Week #8: [datetime.date(2023, 1, 23), datetime.date(2023, 1, 24), datetime.date(2023, 1, 25), datetime.date(2023, 1, 26), datetime.date(2023, 1, 27), datetime.date(2023, 1, 28), datetime.date(2023, 1, 29)]\n",
      "This is Week #9: [datetime.date(2023, 1, 30), datetime.date(2023, 1, 31), datetime.date(2023, 2, 1), datetime.date(2023, 2, 2), datetime.date(2023, 2, 3), datetime.date(2023, 2, 4), datetime.date(2023, 2, 5)]\n",
      "Year: 2023\t Month:2\n",
      "This is Week #10: [datetime.date(2023, 2, 6), datetime.date(2023, 2, 7), datetime.date(2023, 2, 8), datetime.date(2023, 2, 9), datetime.date(2023, 2, 10), datetime.date(2023, 2, 11), datetime.date(2023, 2, 12)]\n",
      "This is Week #11: [datetime.date(2023, 2, 13), datetime.date(2023, 2, 14), datetime.date(2023, 2, 15), datetime.date(2023, 2, 16), datetime.date(2023, 2, 17), datetime.date(2023, 2, 18), datetime.date(2023, 2, 19)]\n",
      "This is Week #12: [datetime.date(2023, 2, 20), datetime.date(2023, 2, 21), datetime.date(2023, 2, 22), datetime.date(2023, 2, 23), datetime.date(2023, 2, 24), datetime.date(2023, 2, 25), datetime.date(2023, 2, 26)]\n",
      "This is Week #13: [datetime.date(2023, 2, 27), datetime.date(2023, 2, 28), datetime.date(2023, 3, 1), datetime.date(2023, 3, 2), datetime.date(2023, 3, 3), datetime.date(2023, 3, 4), datetime.date(2023, 3, 5)]\n",
      "Year: 2023\t Month:3\n",
      "This is Week #14: [datetime.date(2023, 3, 6), datetime.date(2023, 3, 7), datetime.date(2023, 3, 8), datetime.date(2023, 3, 9), datetime.date(2023, 3, 10), datetime.date(2023, 3, 11), datetime.date(2023, 3, 12)]\n",
      "This is Week #15: [datetime.date(2023, 3, 13), datetime.date(2023, 3, 14), datetime.date(2023, 3, 15), datetime.date(2023, 3, 16), datetime.date(2023, 3, 17), datetime.date(2023, 3, 18), datetime.date(2023, 3, 19)]\n",
      "This is Week #16: [datetime.date(2023, 3, 20), datetime.date(2023, 3, 21), datetime.date(2023, 3, 22), datetime.date(2023, 3, 23), datetime.date(2023, 3, 24), datetime.date(2023, 3, 25), datetime.date(2023, 3, 26)]\n",
      "This is Week #17: [datetime.date(2023, 3, 27), datetime.date(2023, 3, 28), datetime.date(2023, 3, 29), datetime.date(2023, 3, 30), datetime.date(2023, 3, 31), datetime.date(2023, 4, 1), datetime.date(2023, 4, 2)]\n",
      "Year: 2023\t Month:4\n",
      "This is Week #18: [datetime.date(2023, 4, 3), datetime.date(2023, 4, 4), datetime.date(2023, 4, 5), datetime.date(2023, 4, 6), datetime.date(2023, 4, 7), datetime.date(2023, 4, 8), datetime.date(2023, 4, 9)]\n",
      "This is Week #19: [datetime.date(2023, 4, 10), datetime.date(2023, 4, 11), datetime.date(2023, 4, 12), datetime.date(2023, 4, 13), datetime.date(2023, 4, 14), datetime.date(2023, 4, 15), datetime.date(2023, 4, 16)]\n",
      "\n",
      "######2023-2024######\n",
      "Year: 2023\t Month:12\n",
      "This is Week #1: [datetime.date(2023, 12, 4), datetime.date(2023, 12, 5), datetime.date(2023, 12, 6), datetime.date(2023, 12, 7), datetime.date(2023, 12, 8), datetime.date(2023, 12, 9), datetime.date(2023, 12, 10)]\n",
      "This is Week #2: [datetime.date(2023, 12, 11), datetime.date(2023, 12, 12), datetime.date(2023, 12, 13), datetime.date(2023, 12, 14), datetime.date(2023, 12, 15), datetime.date(2023, 12, 16), datetime.date(2023, 12, 17)]\n",
      "This is Week #3: [datetime.date(2023, 12, 18), datetime.date(2023, 12, 19), datetime.date(2023, 12, 20), datetime.date(2023, 12, 21), datetime.date(2023, 12, 22), datetime.date(2023, 12, 23), datetime.date(2023, 12, 24)]\n",
      "This is Week #4: [datetime.date(2023, 12, 25), datetime.date(2023, 12, 26), datetime.date(2023, 12, 27), datetime.date(2023, 12, 28), datetime.date(2023, 12, 29), datetime.date(2023, 12, 30), datetime.date(2023, 12, 31)]\n",
      "Year: 2024\t Month:1\n",
      "This is Week #5: [datetime.date(2024, 1, 1), datetime.date(2024, 1, 2), datetime.date(2024, 1, 3), datetime.date(2024, 1, 4), datetime.date(2024, 1, 5), datetime.date(2024, 1, 6), datetime.date(2024, 1, 7)]\n",
      "This is Week #6: [datetime.date(2024, 1, 8), datetime.date(2024, 1, 9), datetime.date(2024, 1, 10), datetime.date(2024, 1, 11), datetime.date(2024, 1, 12), datetime.date(2024, 1, 13), datetime.date(2024, 1, 14)]\n",
      "This is Week #7: [datetime.date(2024, 1, 15), datetime.date(2024, 1, 16), datetime.date(2024, 1, 17), datetime.date(2024, 1, 18), datetime.date(2024, 1, 19), datetime.date(2024, 1, 20), datetime.date(2024, 1, 21)]\n",
      "This is Week #8: [datetime.date(2024, 1, 22), datetime.date(2024, 1, 23), datetime.date(2024, 1, 24), datetime.date(2024, 1, 25), datetime.date(2024, 1, 26), datetime.date(2024, 1, 27), datetime.date(2024, 1, 28)]\n",
      "This is Week #9: [datetime.date(2024, 1, 29), datetime.date(2024, 1, 30), datetime.date(2024, 1, 31), datetime.date(2024, 2, 1), datetime.date(2024, 2, 2), datetime.date(2024, 2, 3), datetime.date(2024, 2, 4)]\n",
      "Year: 2024\t Month:2\n",
      "This is Week #10: [datetime.date(2024, 2, 5), datetime.date(2024, 2, 6), datetime.date(2024, 2, 7), datetime.date(2024, 2, 8), datetime.date(2024, 2, 9), datetime.date(2024, 2, 10), datetime.date(2024, 2, 11)]\n",
      "This is Week #11: [datetime.date(2024, 2, 12), datetime.date(2024, 2, 13), datetime.date(2024, 2, 14), datetime.date(2024, 2, 15), datetime.date(2024, 2, 16), datetime.date(2024, 2, 17), datetime.date(2024, 2, 18)]\n",
      "This is Week #12: [datetime.date(2024, 2, 19), datetime.date(2024, 2, 20), datetime.date(2024, 2, 21), datetime.date(2024, 2, 22), datetime.date(2024, 2, 23), datetime.date(2024, 2, 24), datetime.date(2024, 2, 25)]\n",
      "This is Week #13: [datetime.date(2024, 2, 26), datetime.date(2024, 2, 27), datetime.date(2024, 2, 28), datetime.date(2024, 2, 29), datetime.date(2024, 3, 1), datetime.date(2024, 3, 2), datetime.date(2024, 3, 3)]\n",
      "Year: 2024\t Month:3\n",
      "This is Week #14: [datetime.date(2024, 3, 4), datetime.date(2024, 3, 5), datetime.date(2024, 3, 6), datetime.date(2024, 3, 7), datetime.date(2024, 3, 8), datetime.date(2024, 3, 9), datetime.date(2024, 3, 10)]\n",
      "This is Week #15: [datetime.date(2024, 3, 11), datetime.date(2024, 3, 12), datetime.date(2024, 3, 13), datetime.date(2024, 3, 14), datetime.date(2024, 3, 15), datetime.date(2024, 3, 16), datetime.date(2024, 3, 17)]\n",
      "This is Week #16: [datetime.date(2024, 3, 18), datetime.date(2024, 3, 19), datetime.date(2024, 3, 20), datetime.date(2024, 3, 21), datetime.date(2024, 3, 22), datetime.date(2024, 3, 23), datetime.date(2024, 3, 24)]\n",
      "This is Week #17: [datetime.date(2024, 3, 25), datetime.date(2024, 3, 26), datetime.date(2024, 3, 27), datetime.date(2024, 3, 28), datetime.date(2024, 3, 29), datetime.date(2024, 3, 30), datetime.date(2024, 3, 31)]\n",
      "Year: 2024\t Month:4\n",
      "This is Week #18: [datetime.date(2024, 4, 1), datetime.date(2024, 4, 2), datetime.date(2024, 4, 3), datetime.date(2024, 4, 4), datetime.date(2024, 4, 5), datetime.date(2024, 4, 6), datetime.date(2024, 4, 7)]\n",
      "This is Week #19: [datetime.date(2024, 4, 8), datetime.date(2024, 4, 9), datetime.date(2024, 4, 10), datetime.date(2024, 4, 11), datetime.date(2024, 4, 12), datetime.date(2024, 4, 13), datetime.date(2024, 4, 14)]\n",
      "This is Week #20: [datetime.date(2024, 4, 15), datetime.date(2024, 4, 16), datetime.date(2024, 4, 17), datetime.date(2024, 4, 18), datetime.date(2024, 4, 19), datetime.date(2024, 4, 20), datetime.date(2024, 4, 21)]\n",
      "\n",
      "######2024-2025######\n",
      "Year: 2024\t Month:12\n",
      "This is Week #1: [datetime.date(2024, 12, 2), datetime.date(2024, 12, 3), datetime.date(2024, 12, 4), datetime.date(2024, 12, 5), datetime.date(2024, 12, 6), datetime.date(2024, 12, 7), datetime.date(2024, 12, 8)]\n",
      "This is Week #2: [datetime.date(2024, 12, 9), datetime.date(2024, 12, 10), datetime.date(2024, 12, 11), datetime.date(2024, 12, 12), datetime.date(2024, 12, 13), datetime.date(2024, 12, 14), datetime.date(2024, 12, 15)]\n",
      "This is Week #3: [datetime.date(2024, 12, 16), datetime.date(2024, 12, 17), datetime.date(2024, 12, 18), datetime.date(2024, 12, 19), datetime.date(2024, 12, 20), datetime.date(2024, 12, 21), datetime.date(2024, 12, 22)]\n",
      "This is Week #4: [datetime.date(2024, 12, 23), datetime.date(2024, 12, 24), datetime.date(2024, 12, 25), datetime.date(2024, 12, 26), datetime.date(2024, 12, 27), datetime.date(2024, 12, 28), datetime.date(2024, 12, 29)]\n",
      "This is Week #5: [datetime.date(2024, 12, 30), datetime.date(2024, 12, 31), datetime.date(2025, 1, 1), datetime.date(2025, 1, 2), datetime.date(2025, 1, 3), datetime.date(2025, 1, 4), datetime.date(2025, 1, 5)]\n",
      "Year: 2025\t Month:1\n",
      "This is Week #6: [datetime.date(2025, 1, 6), datetime.date(2025, 1, 7), datetime.date(2025, 1, 8), datetime.date(2025, 1, 9), datetime.date(2025, 1, 10), datetime.date(2025, 1, 11), datetime.date(2025, 1, 12)]\n",
      "This is Week #7: [datetime.date(2025, 1, 13), datetime.date(2025, 1, 14), datetime.date(2025, 1, 15), datetime.date(2025, 1, 16), datetime.date(2025, 1, 17), datetime.date(2025, 1, 18), datetime.date(2025, 1, 19)]\n",
      "This is Week #8: [datetime.date(2025, 1, 20), datetime.date(2025, 1, 21), datetime.date(2025, 1, 22), datetime.date(2025, 1, 23), datetime.date(2025, 1, 24), datetime.date(2025, 1, 25), datetime.date(2025, 1, 26)]\n",
      "This is Week #9: [datetime.date(2025, 1, 27), datetime.date(2025, 1, 28), datetime.date(2025, 1, 29), datetime.date(2025, 1, 30), datetime.date(2025, 1, 31), datetime.date(2025, 2, 1), datetime.date(2025, 2, 2)]\n",
      "Year: 2025\t Month:2\n",
      "This is Week #10: [datetime.date(2025, 2, 3), datetime.date(2025, 2, 4), datetime.date(2025, 2, 5), datetime.date(2025, 2, 6), datetime.date(2025, 2, 7), datetime.date(2025, 2, 8), datetime.date(2025, 2, 9)]\n",
      "This is Week #11: [datetime.date(2025, 2, 10), datetime.date(2025, 2, 11), datetime.date(2025, 2, 12), datetime.date(2025, 2, 13), datetime.date(2025, 2, 14), datetime.date(2025, 2, 15), datetime.date(2025, 2, 16)]\n",
      "This is Week #12: [datetime.date(2025, 2, 17), datetime.date(2025, 2, 18), datetime.date(2025, 2, 19), datetime.date(2025, 2, 20), datetime.date(2025, 2, 21), datetime.date(2025, 2, 22), datetime.date(2025, 2, 23)]\n",
      "This is Week #13: [datetime.date(2025, 2, 24), datetime.date(2025, 2, 25), datetime.date(2025, 2, 26), datetime.date(2025, 2, 27), datetime.date(2025, 2, 28), datetime.date(2025, 3, 1), datetime.date(2025, 3, 2)]\n",
      "Year: 2025\t Month:3\n",
      "This is Week #14: [datetime.date(2025, 3, 3), datetime.date(2025, 3, 4), datetime.date(2025, 3, 5), datetime.date(2025, 3, 6), datetime.date(2025, 3, 7), datetime.date(2025, 3, 8), datetime.date(2025, 3, 9)]\n",
      "This is Week #15: [datetime.date(2025, 3, 10), datetime.date(2025, 3, 11), datetime.date(2025, 3, 12), datetime.date(2025, 3, 13), datetime.date(2025, 3, 14), datetime.date(2025, 3, 15), datetime.date(2025, 3, 16)]\n",
      "This is Week #16: [datetime.date(2025, 3, 17), datetime.date(2025, 3, 18), datetime.date(2025, 3, 19), datetime.date(2025, 3, 20), datetime.date(2025, 3, 21), datetime.date(2025, 3, 22), datetime.date(2025, 3, 23)]\n",
      "This is Week #17: [datetime.date(2025, 3, 24), datetime.date(2025, 3, 25), datetime.date(2025, 3, 26), datetime.date(2025, 3, 27), datetime.date(2025, 3, 28), datetime.date(2025, 3, 29), datetime.date(2025, 3, 30)]\n",
      "This is Week #18: [datetime.date(2025, 3, 31), datetime.date(2025, 4, 1), datetime.date(2025, 4, 2), datetime.date(2025, 4, 3), datetime.date(2025, 4, 4), datetime.date(2025, 4, 5), datetime.date(2025, 4, 6)]\n",
      "Year: 2025\t Month:4\n",
      "This is Week #19: [datetime.date(2025, 4, 7), datetime.date(2025, 4, 8), datetime.date(2025, 4, 9), datetime.date(2025, 4, 10), datetime.date(2025, 4, 11), datetime.date(2025, 4, 12), datetime.date(2025, 4, 13)]\n",
      "This is Week #20: [datetime.date(2025, 4, 14), datetime.date(2025, 4, 15), datetime.date(2025, 4, 16), datetime.date(2025, 4, 17), datetime.date(2025, 4, 18), datetime.date(2025, 4, 19), datetime.date(2025, 4, 20)]\n"
     ]
    }
   ],
   "source": [
    "all_season_dates = {} # {week number for the season : list of datetime.date objects for that week}\n",
    "\n",
    "for first_year in season_range:\n",
    "    # not forecasting weather, so don't want to consider 2025-2026 season\n",
    "    if first_year == end_season:\n",
    "        break\n",
    "\n",
    "    # specify the ski season\n",
    "    second_year = first_year + 1\n",
    "    season_str = f\"{first_year}-{second_year}\"\n",
    "    print(f\"\\n######{season_str}######\")\n",
    "\n",
    "    # get the months for this ski season\n",
    "    month_range = [(first_year, start_month)]\n",
    "    month_range.extend([(second_year, m) for m in range(1,end_month+1)])\n",
    "\n",
    "    week_num = 1\n",
    "    for yr, mo in month_range:\n",
    "        print(f\"Year: {yr}\\t Month:{mo}\")\n",
    "        for i, wk in enumerate(cal.monthdatescalendar(yr, mo)):\n",
    "            # just want to grab the lists of datetime objects where the first element falls within the given 'mo' AND\n",
    "            # want to ignore the last couple weeks in April since those dates fall beyond the assumed ski season\n",
    "            if wk[0].month != mo or (mo == end_month and i > 2):\n",
    "                continue\n",
    "        \n",
    "            print(f\"This is Week #{week_num}: {wk}\")\n",
    "            k = f\"{season_str}--{week_num}\"\n",
    "            all_season_dates[k] = wk\n",
    "            week_num += 1"
   ]
  },
  {
   "cell_type": "code",
   "execution_count": 62,
   "metadata": {},
   "outputs": [
    {
     "data": {
      "text/plain": [
       "dict_keys(['2021-2022--1', '2021-2022--2', '2021-2022--3', '2021-2022--4', '2021-2022--5', '2021-2022--6', '2021-2022--7', '2021-2022--8', '2021-2022--9', '2021-2022--10', '2021-2022--11', '2021-2022--12', '2021-2022--13', '2021-2022--14', '2021-2022--15', '2021-2022--16', '2021-2022--17', '2021-2022--18', '2021-2022--19', '2022-2023--1', '2022-2023--2', '2022-2023--3', '2022-2023--4', '2022-2023--5', '2022-2023--6', '2022-2023--7', '2022-2023--8', '2022-2023--9', '2022-2023--10', '2022-2023--11', '2022-2023--12', '2022-2023--13', '2022-2023--14', '2022-2023--15', '2022-2023--16', '2022-2023--17', '2022-2023--18', '2022-2023--19', '2023-2024--1', '2023-2024--2', '2023-2024--3', '2023-2024--4', '2023-2024--5', '2023-2024--6', '2023-2024--7', '2023-2024--8', '2023-2024--9', '2023-2024--10', '2023-2024--11', '2023-2024--12', '2023-2024--13', '2023-2024--14', '2023-2024--15', '2023-2024--16', '2023-2024--17', '2023-2024--18', '2023-2024--19', '2023-2024--20', '2024-2025--1', '2024-2025--2', '2024-2025--3', '2024-2025--4', '2024-2025--5', '2024-2025--6', '2024-2025--7', '2024-2025--8', '2024-2025--9', '2024-2025--10', '2024-2025--11', '2024-2025--12', '2024-2025--13', '2024-2025--14', '2024-2025--15', '2024-2025--16', '2024-2025--17', '2024-2025--18', '2024-2025--19', '2024-2025--20'])"
      ]
     },
     "execution_count": 62,
     "metadata": {},
     "output_type": "execute_result"
    }
   ],
   "source": [
    "all_season_dates.keys()"
   ]
  },
  {
   "cell_type": "code",
   "execution_count": 63,
   "metadata": {},
   "outputs": [
    {
     "data": {
      "text/plain": [
       "[datetime.date(2022, 2, 21),\n",
       " datetime.date(2022, 2, 22),\n",
       " datetime.date(2022, 2, 23),\n",
       " datetime.date(2022, 2, 24),\n",
       " datetime.date(2022, 2, 25),\n",
       " datetime.date(2022, 2, 26),\n",
       " datetime.date(2022, 2, 27)]"
      ]
     },
     "execution_count": 63,
     "metadata": {},
     "output_type": "execute_result"
    }
   ],
   "source": [
    "# the 12th week of the 2021-2022 season\n",
    "all_season_dates['2021-2022--12']"
   ]
  },
  {
   "attachments": {},
   "cell_type": "markdown",
   "metadata": {},
   "source": [
    "## Randomly select 2 of the dates from each week\n",
    "1. Create a new list that grabs two dates from each week.\n",
    "2. Duplicate each date for the 10:30 and 14:30 timestamps.\n",
    "3. Convert the timestamps to Unix"
   ]
  },
  {
   "cell_type": "code",
   "execution_count": 66,
   "metadata": {},
   "outputs": [
    {
     "data": {
      "text/plain": [
       "datetime.date(2022, 2, 21)"
      ]
     },
     "execution_count": 66,
     "metadata": {},
     "output_type": "execute_result"
    }
   ],
   "source": [
    "all_season_dates['2021-2022--12'][0]"
   ]
  },
  {
   "cell_type": "code",
   "execution_count": 69,
   "metadata": {},
   "outputs": [],
   "source": [
    "new_datetime = dt.datetime.combine(all_season_dates['2021-2022--12'][0], dt.time(10,30,0))"
   ]
  },
  {
   "cell_type": "code",
   "execution_count": 79,
   "metadata": {},
   "outputs": [
    {
     "data": {
      "text/plain": [
       "[datetime.date(2022, 2, 21), datetime.date(2022, 2, 27)]"
      ]
     },
     "execution_count": 79,
     "metadata": {},
     "output_type": "execute_result"
    }
   ],
   "source": [
    "random.choices(all_season_dates['2021-2022--12'], k=2)"
   ]
  },
  {
   "cell_type": "code",
   "execution_count": 91,
   "metadata": {},
   "outputs": [],
   "source": [
    "selected_season_dates = dict.fromkeys(all_season_dates)\n",
    "for szn_wk in selected_season_dates.keys():\n",
    "    # randomly choose 2 dates in that week\n",
    "    date_choices = random.choices(all_season_dates[szn_wk], k=2)\n",
    "\n",
    "    # get the 2 datetimes for each selected date AND convert to Unix timestamp\n",
    "    new_datetimes = []\n",
    "    for d in date_choices:\n",
    "        new_datetimes.append(dt.datetime.combine(d, dt.time(10,30,0)).timestamp())\n",
    "        new_datetimes.append(dt.datetime.combine(d, dt.time(14,30,0)).timestamp())\n",
    "\n",
    "    selected_season_dates[szn_wk] = new_datetimes"
   ]
  },
  {
   "cell_type": "code",
   "execution_count": 92,
   "metadata": {},
   "outputs": [
    {
     "data": {
      "text/plain": [
       "[1647786600.0, 1647801000.0, 1647268200.0, 1647282600.0]"
      ]
     },
     "execution_count": 92,
     "metadata": {},
     "output_type": "execute_result"
    }
   ],
   "source": [
    "selected_season_dates['2021-2022--15']"
   ]
  },
  {
   "cell_type": "code",
   "execution_count": 112,
   "metadata": {},
   "outputs": [],
   "source": [
    "# all the Unix timestamps in one flat list\n",
    "timestamps = [u for t in selected_season_dates.values() for u in t]"
   ]
  },
  {
   "attachments": {},
   "cell_type": "markdown",
   "metadata": {},
   "source": [
    "## Specify parameters for OpenWeather API call\n",
    "API call = `https://api.openweathermap.org/data/3.0/onecall/timemachine?lat={lat}&lon={lon}&dt={time}&appid={API key}`\n",
    "\n",
    "### Geographical Coordinates of Resorts ->> Geocoding API\n",
    "Before we can get weather, need to get the coordinates of the 6 resorts.\n",
    "\n",
    "API call = `http://api.openweathermap.org/geo/1.0/direct?q={city name},{state code},{country code}&limit={limit}&appid={API key}`\n",
    "\n",
    "Switch to AccuWeather POI Search by Country Code API since you can lookup coordinates by a POI instead of providing city and state codes.\n",
    "\n",
    "API call = ``"
   ]
  },
  {
   "cell_type": "code",
   "execution_count": 115,
   "metadata": {},
   "outputs": [],
   "source": [
    "resorts = {\n",
    "    'Northern California': ['Mammoth Mountain', 'Palisades Tahoe'],\n",
    "    'Rockies': ['Copper Mountain', 'Snowbird'],\n",
    "    'PNW': ['The Summit at Snoqualmie', 'Mt. Bachelor'],\n",
    "    'Midwest': ['Boyne Mountain', 'The Highlands']\n",
    "}\n",
    "resort_locations = [m for r in resorts.values() for m in r]"
   ]
  },
  {
   "cell_type": "code",
   "execution_count": null,
   "metadata": {},
   "outputs": [],
   "source": []
  }
 ],
 "metadata": {
  "kernelspec": {
   "display_name": ".venv",
   "language": "python",
   "name": "python3"
  },
  "language_info": {
   "codemirror_mode": {
    "name": "ipython",
    "version": 3
   },
   "file_extension": ".py",
   "mimetype": "text/x-python",
   "name": "python",
   "nbconvert_exporter": "python",
   "pygments_lexer": "ipython3",
   "version": "3.10.9"
  },
  "orig_nbformat": 4
 },
 "nbformat": 4,
 "nbformat_minor": 2
}
